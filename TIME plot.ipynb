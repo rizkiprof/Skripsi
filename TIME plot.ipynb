{
 "cells": [
  {
   "cell_type": "code",
   "execution_count": 1,
   "metadata": {},
   "outputs": [
    {
     "name": "stderr",
     "output_type": "stream",
     "text": [
      "C:\\ProgramData\\Anaconda3\\lib\\site-packages\\ipykernel_launcher.py:9: DeprecationWarning: time.clock has been deprecated in Python 3.3 and will be removed from Python 3.8: use time.perf_counter or time.process_time instead\n",
      "  if __name__ == '__main__':\n",
      "C:\\ProgramData\\Anaconda3\\lib\\site-packages\\ipykernel_launcher.py:14: DeprecationWarning: time.clock has been deprecated in Python 3.3 and will be removed from Python 3.8: use time.perf_counter or time.process_time instead\n",
      "  \n"
     ]
    },
    {
     "name": "stdout",
     "output_type": "stream",
     "text": [
      "[0.017072999999999894, 0.03383450000000021, 0.050587499999999785, 0.06762680000000021, 0.08472990000000014, 0.10186459999999986, 0.11898069999999983, 0.13553440000000005, 0.15244649999999993, 0.16940250000000034] [2, 4, 6, 8, 10, 12, 14, 16, 18, 20]\n"
     ]
    },
    {
     "data": {
      "text/plain": [
       "<Figure size 640x480 with 1 Axes>"
      ]
     },
     "metadata": {},
     "output_type": "display_data"
    }
   ],
   "source": [
    "import matplotlib\n",
    "import matplotlib.pyplot as plt\n",
    "import numpy as np\n",
    "import datetime as dt\n",
    "import time\n",
    "\n",
    "# create data\n",
    "y = [ 2,4,6,8,10,12,14,16,18,20 ]\n",
    "start = time.clock()\n",
    "x = []\n",
    "for i in range (10) :\n",
    "    for j in range (100000):\n",
    "        k = 1\n",
    "    z = time.clock() - start\n",
    "    x.append(z)\n",
    "    \n",
    "print (x, y)\n",
    "# plot\n",
    "plt.plot(x,y)\n",
    "plt.gcf().autofmt_xdate()\n",
    "plt.show()\n"
   ]
  },
  {
   "cell_type": "code",
   "execution_count": 2,
   "metadata": {},
   "outputs": [
    {
     "name": "stdout",
     "output_type": "stream",
     "text": [
      "Elapsed time: 4.203125 4.015625\n",
      "Elapsed time during the whole program in seconds: 0.1875\n"
     ]
    }
   ],
   "source": [
    "# Python program to show time by process_time()  \n",
    "from time import process_time \n",
    "  \n",
    "# assigning n = 50  \n",
    "n = 1000000 \n",
    "  \n",
    "# Start the stopwatch / counter  \n",
    "t1_start = process_time()  \n",
    "   \n",
    "for i in range(n): \n",
    "    j = 0\n",
    "  \n",
    "  \n",
    "# Stop the stopwatch / counter \n",
    "t1_stop = process_time() \n",
    "   \n",
    "print(\"Elapsed time:\", t1_stop, t1_start)  \n",
    "   \n",
    "print(\"Elapsed time during the whole program in seconds:\", \n",
    "                                         t1_stop-t1_start)  "
   ]
  },
  {
   "cell_type": "code",
   "execution_count": 3,
   "metadata": {},
   "outputs": [
    {
     "name": "stdout",
     "output_type": "stream",
     "text": [
      "[0.203125, 0.40625, 0.59375, 0.765625, 0.953125, 1.140625, 1.3125, 1.484375, 1.65625, 1.84375] [2, 4, 6, 8, 10, 12, 14, 16, 18, 20]\n"
     ]
    },
    {
     "data": {
      "image/png": "[encoded data removed]",
      "text/plain": [
       "<Figure size 432x288 with 1 Axes>"
      ]
     },
     "metadata": {
      "needs_background": "light"
     },
     "output_type": "display_data"
    }
   ],
   "source": [
    "import matplotlib\n",
    "import matplotlib.pyplot as plt\n",
    "from time import process_time \n",
    "  \n",
    "\n",
    "# create data\n",
    "y = [ 2,4,6,8,10,12,14,16,18,20 ]  \n",
    "t1_start = process_time()  \n",
    "x = []\n",
    "for i in range (10) :\n",
    "    for j in range (1000000):\n",
    "        k = 1\n",
    "    t1_stop = process_time()\n",
    "    x.append(t1_stop - t1_start)\n",
    "    \n",
    "print (x, y)\n",
    "# plot\n",
    "plt.plot(y,x)\n",
    "plt.gcf().autofmt_xdate()\n",
    "plt.show()"
   ]
  },
  {
   "cell_type": "code",
   "execution_count": null,
   "metadata": {},
   "outputs": [],
   "source": []
  }
 ],
 "metadata": {
  "kernelspec": {
   "display_name": "Python 3",
   "language": "python",
   "name": "python3"
  },
  "language_info": {
   "codemirror_mode": {
    "name": "ipython",
    "version": 3
   },
   "file_extension": ".py",
   "mimetype": "text/x-python",
   "name": "python",
   "nbconvert_exporter": "python",
   "pygments_lexer": "ipython3",
   "version": "3.7.1"
  }
 },
 "nbformat": 4,
 "nbformat_minor": 2
}
