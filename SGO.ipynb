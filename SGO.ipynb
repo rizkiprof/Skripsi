{
 "cells": [
  {
   "cell_type": "code",
   "execution_count": 1,
   "metadata": {},
   "outputs": [],
   "source": [
    "import numpy as np\n",
    "import pandas as pd\n",
    "import matplotlib.pyplot as plt\n",
    "from copy import deepcopy\n",
    "from numpy import random as rand\n",
    "from sklearn.model_selection import train_test_split\n",
    "from sklearn.metrics import accuracy_score, mean_squared_error\n",
    "from tqdm import tqdm_notebook\n",
    "from time import process_time"
   ]
  },
  {
   "cell_type": "code",
   "execution_count": 2,
   "metadata": {},
   "outputs": [],
   "source": [
    "class FFN_MultiClass:\n",
    "\n",
    "    def __init__(self, n_inputs, n_outputs, hidden_sizes=[3]):\n",
    "        self.nx = n_inputs\n",
    "        self.ny = n_outputs\n",
    "        self.nh = len(hidden_sizes)\n",
    "        self.sizes = [self.nx] + hidden_sizes + [self.ny]\n",
    "\n",
    "        self.W = {}\n",
    "        self.B = {}\n",
    "        for i in range(self.nh + 1):\n",
    "            self.W[i + 1] = np.random.randn(self.sizes[i], self.sizes[i + 1])\n",
    "            self.B[i + 1] = np.ones((1, self.sizes[i + 1]))\n",
    "            \n",
    "    def predict(self, X):\n",
    "        Y_pred = []\n",
    "        for x in X:\n",
    "            y_pred = self.forward_pass(x)\n",
    "            Y_pred.append(y_pred)\n",
    "        return np.array(Y_pred).squeeze()\n",
    "\n",
    "    def relu(self, x):\n",
    "        return np.where(x < 0, 0.0, x)\n",
    "    \n",
    "    def reluprime(self, x):\n",
    "        return (x>0).astype(x.dtype)\n",
    "    \n",
    "    def softmax(self, x):\n",
    "        exps = np.exp(x)\n",
    "        return exps / np.sum(exps)\n",
    "    \n",
    "    def cross_entropy(self, label, pred):\n",
    "        yl = np.multiply(pred, label)\n",
    "        yl = yl[yl != 0]\n",
    "        yl = -np.log(yl)\n",
    "        yl = np.mean(yl)\n",
    "        return yl\n",
    "    \n",
    "    def forward_pass(self, x):\n",
    "        self.A = {}\n",
    "        self.H = {}\n",
    "        self.H[0] = x.reshape(1, -1)\n",
    "        for i in range(self.nh):\n",
    "            self.A[i + 1] = np.matmul(self.H[i], self.W[i + 1]) + self.B[i + 1]\n",
    "            self.H[i + 1] = self.relu(self.A[i + 1])\n",
    "        self.A[self.nh + 1] = np.matmul(self.H[self.nh], self.W[self.nh + 1]) + self.B[self.nh + 1]\n",
    "        self.H[self.nh + 1] = self.softmax(self.A[self.nh + 1])\n",
    "        return self.H[self.nh + 1]\n",
    "    \n",
    "    def backward_prop(self, y):\n",
    "        self.dW = {}\n",
    "        self.dB = {}\n",
    "        self.dH = {}\n",
    "        self.dA = {}\n",
    "        L = self.nh + 1\n",
    "        self.dA[L] = self.H[L] - y\n",
    "        for k in range(L, 0,-1):\n",
    "            self.dW[k] = np.matmul(self.H[k - 1].T, self.dA[k])\n",
    "            self.dB[k] = self.dA[k]\n",
    "            self.dH[k - 1] = np.matmul(self.dA[k], self.W[k].T)\n",
    "            self.dA[k - 1] = np.multiply(self.dH[k - 1],\n",
    "                    self.reluprime(self.H[k - 1]))\n",
    "            \n",
    "    \n",
    "    def fit(self, X, Y, epochs=300, initialize='True', learning_rate=0.01, display_loss = True):\n",
    "\n",
    "        if display_loss:\n",
    "            loss = []\n",
    "            time = []\n",
    "            \n",
    "        if initialize:\n",
    "            for i in range(self.nh + 1):\n",
    "                self.W[i + 1] = np.random.randn(self.sizes[i], self.sizes[i + 1])\n",
    "                self.B[i + 1] = np.zeros((1, self.sizes[i + 1]))\n",
    "#             print (self.W)\n",
    "                \n",
    "        for epoch in tqdm_notebook(range(epochs), total=epochs,\n",
    "                                   unit='epoch'):\n",
    "#         for epoch in range(epochs):\n",
    "                \n",
    "            dW = {}\n",
    "            dB = {}\n",
    "            \n",
    "            # Init gradien\n",
    "            for i in range(self.nh + 1):\n",
    "                dW[i + 1] = np.zeros((self.sizes[i], self.sizes[i + 1]))\n",
    "                dB[i + 1] = np.zeros((1, self.sizes[i + 1]))\n",
    "                \n",
    "            for (x, y) in zip(X, Y):\n",
    "                self.forward_pass(x)\n",
    "                self.backward_prop(y)\n",
    "                for i in range(self.nh + 1):\n",
    "#                     print(dW[i+1], self.dW[i+1])\n",
    "                    \n",
    "                    dW[i + 1] += self.dW[i + 1]\n",
    "                    dB[i + 1] += self.dB[i + 1]\n",
    "                m = X.shape[1]\n",
    "                for i in range(self.nh + 1):\n",
    "                    self.W[i + 1] -= learning_rate * (dW[i + 1] / m)\n",
    "                    self.B[i + 1] -= learning_rate * (dB[i + 1] / m)\n",
    "                    \n",
    "            if display_loss:\n",
    "                timer = process_time() - starttime\n",
    "                time.append(timer)\n",
    "                Y_pred = self.predict(X)\n",
    "#                 loss[epoch] = self.cross_entropy(Y, Y_pred)\n",
    "                loss.append(self.cross_entropy(Y, Y_pred))\n",
    "    \n",
    "        if display_loss:\n",
    "#             print(loss)\n",
    "            plt.plot(time, loss)\n",
    "            plt.xlabel('Seconds')\n",
    "            plt.ylabel('CE loss')     \n",
    "            jangkau = max(x) - min(x)\n",
    "            plt.yticks(np.arange(0, max(x)+ (jangkau*0.2), 0.2))\n",
    "            plt.gcf().autofmt_xdate()\n",
    "            plt.show()\n",
    "            print(\"Training error\",loss[-1])"
   ]
  },
  {
   "cell_type": "code",
   "execution_count": null,
   "metadata": {},
   "outputs": [],
   "source": []
  },
  {
   "cell_type": "code",
   "execution_count": 3,
   "metadata": {},
   "outputs": [
    {
     "name": "stdout",
     "output_type": "stream",
     "text": [
      "(106, 13) (106, 3)\n",
      "(72, 13) (72, 3)\n"
     ]
    }
   ],
   "source": [
    "nFeatures = 13\n",
    "\n",
    "data = pd.read_csv(\"data/wine - norm.csv\", header=None)\n",
    "array = data.values\n",
    "X = array[:,0:nFeatures]\n",
    "y = array[:,nFeatures:]\n",
    "\n",
    "X_train, X_test, y_train, y_test = train_test_split(\n",
    "                X, y, test_size=0.4, random_state=42)\n",
    "\n",
    "# X_test, X_val, y_test, y_val = train_test_split(X_test, y_test, test_size=0.5, random_state=42)\n",
    "\n",
    "print(X_train.shape, y_train.shape)\n",
    "# print(X_val.shape, y_val.shape)\n",
    "print(X_test.shape, y_test.shape)"
   ]
  },
  {
   "cell_type": "code",
   "execution_count": 4,
   "metadata": {},
   "outputs": [
    {
     "data": {
      "application/vnd.jupyter.widget-view+json": {
       "model_id": "e6dbc6629e9743d284ff0b1c8e15d0d2",
       "version_major": 2,
       "version_minor": 0
      },
      "text/plain": [
       "HBox(children=(IntProgress(value=0), HTML(value='')))"
      ]
     },
     "metadata": {},
     "output_type": "display_data"
    },
    {
     "name": "stdout",
     "output_type": "stream",
     "text": [
      "\n"
     ]
    },
    {
     "data": {
      "image/png": "[encoded data removed]",
      "text/plain": [
       "<Figure size 432x288 with 1 Axes>"
      ]
     },
     "metadata": {
      "needs_background": "light"
     },
     "output_type": "display_data"
    },
    {
     "name": "stdout",
     "output_type": "stream",
     "text": [
      "Training error 1.0806050337098863\n",
      "Test error 1.115942343495102\n",
      "Test accuracy 0.0\n"
     ]
    }
   ],
   "source": [
    "n_input = nFeatures\n",
    "n_output = 3\n",
    "hidden = [3]\n",
    "FFN = FFN_MultiClass(n_input, n_output, hidden)\n",
    "starttime = process_time()\n",
    "FFN.fit(X_train,y_train,epochs=100, initialize = True,learning_rate=.01, display_loss=True)\n",
    "# print(FFN.W)\n",
    "\n",
    "y_test_preds = FFN.predict(X_test)\n",
    "test_error = FFN.cross_entropy(y_test, y_test_preds)\n",
    "print(\"Test error\", test_error)\n",
    "\n",
    "y_test_preds = (y_test_preds >= 0.5).astype(\"int\")\n",
    "\n",
    "score = accuracy_score(y_test_preds, y_test)\n",
    "print(\"Test accuracy\",score)\n"
   ]
  },
  {
   "cell_type": "code",
   "execution_count": 5,
   "metadata": {},
   "outputs": [
    {
     "name": "stdout",
     "output_type": "stream",
     "text": [
      "(106, 13) (106, 3)\n",
      "(72, 13) (72, 3)\n"
     ]
    }
   ],
   "source": [
    "nFeatures = 13\n",
    "\n",
    "data = pd.read_csv(\"data/wine - norm.csv\", header=None)\n",
    "array = data.values\n",
    "X = array[:,0:nFeatures]\n",
    "y = array[:,nFeatures:]\n",
    "\n",
    "X_train, X_test, y_train, y_test = train_test_split(\n",
    "                X, y, test_size=0.4, random_state=42)\n",
    "\n",
    "# X_test, X_val, y_test, y_val = train_test_split(X_test, y_test, test_size=0.5, random_state=42)\n",
    "\n",
    "print(X_train.shape, y_train.shape)\n",
    "# print(X_val.shape, y_val.shape)\n",
    "print(X_test.shape, y_test.shape)"
   ]
  },
  {
   "cell_type": "code",
   "execution_count": 6,
   "metadata": {},
   "outputs": [],
   "source": [
    "class Position:\n",
    "    \n",
    "    def __init__(self, n_inputs, n_outputs, hidden_sizes):\n",
    "        self.nx = n_inputs\n",
    "        self.ny = n_outputs\n",
    "        self.nh = len(hidden_sizes)\n",
    "        self.sizes = [self.nx] + hidden_sizes + [self.ny]\n",
    "        self.loss = 1000\n",
    "\n",
    "        self.W = {}\n",
    "        self.B = {}\n",
    "        lo = -3\n",
    "        hi = 3\n",
    "        for i in range(self.nh + 1):\n",
    "            \n",
    "            self.W[i + 1] = np.random.uniform(lo, hi, (self.sizes[i], self.sizes[i + 1]) )\n",
    "            self.B[i + 1] = np.ones((1, self.sizes[i + 1]))\n",
    "    \n",
    "    def relu(self, x):\n",
    "        return np.where(x < 0, 0.0, x)\n",
    "    \n",
    "    def sigmoid(self, x):\n",
    "        return 1/(1 + np.exp(-x)) \n",
    "    \n",
    "    def softmax(self, x):\n",
    "        exps = np.exp(x)\n",
    "        return exps / np.sum(exps)\n",
    "    \n",
    "    def cross_entropy(self, label, pred):\n",
    "        yl = np.multiply(pred, label)\n",
    "        yl = yl[yl != 0]\n",
    "        yl = -np.log(yl)\n",
    "        yl = np.mean(yl)\n",
    "        return yl\n",
    "    \n",
    "    def forward_pass(self, x):\n",
    "        self.A = {}\n",
    "        self.H = {}\n",
    "        self.H[0] = x.reshape(1, -1)\n",
    "        for i in range(self.nh):\n",
    "            self.A[i + 1] = np.matmul(self.H[i], self.W[i + 1]) + self.B[i + 1]\n",
    "            self.H[i + 1] = self.relu(self.A[i + 1])\n",
    "        self.A[self.nh + 1] = np.matmul(self.H[self.nh], self.W[self.nh + 1]) + self.B[self.nh + 1]\n",
    "        self.H[self.nh + 1] = self.softmax(self.A[self.nh + 1])\n",
    "        \n",
    "        return self.H[self.nh + 1]\n",
    "    \n",
    "    def predict(self, X):\n",
    "        Y_pred = []\n",
    "        for x in X:\n",
    "            y_pred = self.forward_pass(x)\n",
    "            Y_pred.append(y_pred)\n",
    "        return np.array(Y_pred).squeeze()\n",
    "    \n",
    "    def calcFit(self, X, y):\n",
    "        Y_pred = self.predict(X)\n",
    "        self.loss = self.cross_entropy(y, Y_pred)\n",
    "        \n",
    "#         print(self.loss)\n",
    "    \n",
    "    def accuracy(self, X, y):\n",
    "        y_preds = self.predict(X)\n",
    "        y_preds = np.around(y_preds, decimals=3)\n",
    "#         print(y_preds, y)\n",
    "        y_preds = (y_preds >= 0.5).astype(\"int\")\n",
    "#         y_pred = np.argmax(logits, axis=1)\n",
    "        score = accuracy_score(y_preds, y)\n",
    "            \n",
    "        return score"
   ]
  },
  {
   "cell_type": "code",
   "execution_count": 7,
   "metadata": {},
   "outputs": [],
   "source": [
    "class Player:\n",
    "    def __init__(self, n_inputs, n_outputs, hidden_sizes):\n",
    "        self.now = Position(n_inputs, n_outputs, hidden_sizes)\n",
    "        self.best = deepcopy(self.now)\n",
    "\n",
    "#     r = rand.uniform()\n",
    "    def delta(self, t, y, r):\n",
    "        b = 30\n",
    "        res = y * (1 - pow(r, pow( (1 - t/maxIterasi), b) ) )\n",
    "        return res\n",
    "    \n",
    "    def moveOff(self, t, maxIter):\n",
    "        UB = 1\n",
    "        LB = -1\n",
    "        \n",
    "        for i in range(self.now.nh + 1):\n",
    "            x = self.now.W[i + 1]\n",
    "            r = rand.random() * 1\n",
    "#             print(r)\n",
    "            if(r <= 0.5):\n",
    "                self.now.W[i + 1] = x + self.delta(t, UB - x, r)\n",
    "            else:\n",
    "                self.now.W[i + 1] = x - self.delta(t, x - LB, r)\n",
    "\n",
    "    def moveForward(self, gbest):\n",
    "        gama = 0.618\n",
    "        alpha = (1 - gama) / 2\n",
    "        beta = (1 - gama) / 2\n",
    "        \n",
    "        for i in range(self.now.nh + 1):\n",
    "            x = self.now.W[i + 1]\n",
    "            xb = self.best.W[i + 1]\n",
    "            B = gbest.W[i + 1]\n",
    "\n",
    "#             print(\"x : \", self.now.W[i + 1])\n",
    "            self.now.W[i + 1] = (alpha * x + beta * xb + gama * B) / (alpha + beta + gama)\n",
    "#             print(\" jadi : \",  self.now.W[i + 1])\n",
    "    \n",
    "\n",
    "    "
   ]
  },
  {
   "cell_type": "code",
   "execution_count": 14,
   "metadata": {},
   "outputs": [
    {
     "name": "stdout",
     "output_type": "stream",
     "text": [
      "global  1.0474014550852067\n"
     ]
    },
    {
     "data": {
      "application/vnd.jupyter.widget-view+json": {
       "model_id": "83c6249f4714449796f535234a492097",
       "version_major": 2,
       "version_minor": 0
      },
      "text/plain": [
       "HBox(children=(IntProgress(value=0, max=40), HTML(value='')))"
      ]
     },
     "metadata": {},
     "output_type": "display_data"
    },
    {
     "name": "stdout",
     "output_type": "stream",
     "text": [
      "1  global  0.8813562144186483\n",
      "1  global  0.5648048362671944\n",
      "1  global  0.48629959135146084\n",
      "1  global  0.15804776554921934\n",
      "2  global  0.15804776554921934\n",
      "3  global  0.15641691038168354\n",
      "3  global  0.1435585427976881\n",
      "3  global  0.13266079649839488\n",
      "4  global  0.13043630215099467\n",
      "4  global  0.12336445196149504\n",
      "5  global  0.12001682514983911\n",
      "6  global  0.11963559892485244\n",
      "6  global  0.11846856479327171\n",
      "7  global  0.11759539937136972\n",
      "7  global  0.11705355142207051\n",
      "8  global  0.11623351816983471\n",
      "9  global  0.1162335181698347\n",
      "9  global  0.11618076364061097\n",
      "10  global  0.11614969365548775\n"
     ]
    },
    {
     "data": {
      "image/png": "[encoded data removed]",
      "text/plain": [
       "<Figure size 432x288 with 1 Axes>"
      ]
     },
     "metadata": {
      "needs_background": "light"
     },
     "output_type": "display_data"
    },
    {
     "data": {
      "image/png": "[encoded data removed]",
      "text/plain": [
       "<Figure size 432x288 with 1 Axes>"
      ]
     },
     "metadata": {
      "needs_background": "light"
     },
     "output_type": "display_data"
    },
    {
     "name": "stdout",
     "output_type": "stream",
     "text": [
      "green = Player[1]nowWeight\n",
      "red = Player[1]bestWeight\n",
      "blue = global bestweight\n"
     ]
    }
   ],
   "source": [
    "players = []\n",
    "n_input = 13\n",
    "n_output = 3\n",
    "hidden = [20]\n",
    "\n",
    "dimensi = (n_input + n_output) * hidden[0]\n",
    "numPlayer = dimensi\n",
    "# numPlayer = 100\n",
    "gbest = Position(n_input, n_output, hidden)\n",
    "\n",
    "for i in range (numPlayer):\n",
    "    p = Player(n_input, n_output, hidden)\n",
    "    p.now.calcFit(X_train, y_train)\n",
    "#     print(\"no : \", i, p.now.W)\n",
    "    p.best = deepcopy(p.now)\n",
    "    players.append(p)\n",
    "    if(gbest.loss > p.best.loss):\n",
    "        gbest = deepcopy(p.best)\n",
    "print(\"global \", gbest.loss)\n",
    "\n",
    "M = 0.3\n",
    "L = 0.1\n",
    "maxIterasi = 40\n",
    "error = {}\n",
    "weight = {}\n",
    "weightPnow = {}\n",
    "weightPbest = {}\n",
    "weightG = {}\n",
    "pCE = {}\n",
    "stopcounter = 5\n",
    "notUpdCnt = 0\n",
    "for it in tqdm_notebook(range(maxIterasi), total=maxIterasi, unit=\"epoch\"):\n",
    "#     print(\"--------\")\n",
    "    it = it + 1\n",
    "    for p in players:\n",
    "        if(rand.random() < M):\n",
    "            p.moveOff(it, maxIterasi)\n",
    "            if(rand.random() < L):\n",
    "                p.moveForward(gbest)\n",
    "        else:\n",
    "            p.moveForward(gbest)\n",
    "    p1 = players[1]\n",
    "#     print(p1.now.W[1])\n",
    "    better = 0\n",
    "    for p in players:\n",
    "        p.now.calcFit(X_train, y_train)\n",
    "        if( p.now.loss <= p.best.loss):\n",
    "#             print(\"pbest \", pl.best.loss)\n",
    "            p.best = deepcopy(p.now)\n",
    "        if(p.now.loss <= gbest.loss):\n",
    "            gbest = deepcopy(p.now)\n",
    "            better = 1\n",
    "            print(it, \" global \", gbest.loss)\n",
    "            \n",
    "    if better :\n",
    "        notUpdCnt = 0\n",
    "    else : \n",
    "        notUpdCnt = notUpdCnt + 1\n",
    "        \n",
    "        \n",
    "#     pCE[it] = players[1].now.loss\n",
    "    weightPnow[it] = players[1].now.W[1][0][0]\n",
    "    weightPbest[it] = players[1].best.W[1][0][0]\n",
    "    weightG[it] = gbest.W[1][0][0]\n",
    "    error[it] = gbest.loss\n",
    "    \n",
    "    if notUpdCnt == stopcounter :\n",
    "        break\n",
    "# print(error)\n",
    "\n",
    "plt.plot(error.values())\n",
    "# plt.plot(pCE.values(), color = 'red')\n",
    "plt.xlabel('Epochs')\n",
    "plt.ylabel('Cross Entropy Loss')\n",
    "plt.ylim(bottom=0)\n",
    "plt.show()\n",
    "\n",
    "\n",
    "plt.plot(weightPnow.values(), color = 'green')\n",
    "plt.plot(weightPbest.values(), color = 'red')\n",
    "plt.plot(weightG.values(), color = 'blue')\n",
    "plt.xlabel('Epochs')\n",
    "plt.ylabel('Weight')\n",
    "plt.show()\n",
    "print( 'green = Player[1]nowWeight')\n",
    "print( 'red = Player[1]bestWeight')\n",
    "print( 'blue = global bestweight')\n",
    "\n"
   ]
  },
  {
   "cell_type": "code",
   "execution_count": 15,
   "metadata": {},
   "outputs": [
    {
     "name": "stdout",
     "output_type": "stream",
     "text": [
      "0.9716981132075472\n"
     ]
    }
   ],
   "source": [
    "# print(gbest.W)\n",
    "\n",
    "print(gbest.accuracy(X_train, y_train))"
   ]
  },
  {
   "cell_type": "code",
   "execution_count": 26,
   "metadata": {},
   "outputs": [],
   "source": [
    "def run():\n",
    "    players = []\n",
    "    n_input = 13\n",
    "    n_output = 3\n",
    "    hidden = [20]\n",
    "\n",
    "    dimensi = (n_input + n_output) * hidden[0]\n",
    "    numPlayer = dimensi\n",
    "    # numPlayer = 100\n",
    "    gbest = Position(n_input, n_output, hidden)\n",
    "\n",
    "    for i in range (numPlayer):\n",
    "        p = Player(n_input, n_output, hidden)\n",
    "        p.now.calcFit(X_train, y_train)\n",
    "    #     print(\"no : \", i, p.now.W)\n",
    "        p.best = deepcopy(p.now)\n",
    "        players.append(p)\n",
    "        if(gbest.loss > p.best.loss):\n",
    "            gbest = deepcopy(p.best)\n",
    "#     print(\"global \", gbest.loss)\n",
    "\n",
    "    M = 0.35\n",
    "    L = 0.1\n",
    "    maxIterasi = 40\n",
    "    stopcounter = 5\n",
    "    notUpdCnt = 0\n",
    "    \n",
    "    t1_start = process_time()  \n",
    "    \n",
    "    \n",
    "    for it in tqdm_notebook(range(maxIterasi), total=maxIterasi, unit=\"epoch\"):\n",
    "    #     print(\"--------\")\n",
    "        it = it + 1\n",
    "        for p in players:\n",
    "            if(rand.random() < M):\n",
    "                p.moveOff(it, maxIterasi)\n",
    "                if(rand.random() < L):\n",
    "                    p.moveForward(gbest)\n",
    "            else:\n",
    "                p.moveForward(gbest)\n",
    "        p1 = players[1]\n",
    "    #     print(p1.now.W[1])\n",
    "        better = 0\n",
    "        for p in players:\n",
    "            p.now.calcFit(X_train, y_train)\n",
    "            if( p.now.loss < p.best.loss):\n",
    "    #             print(\"pbest \", pl.best.loss)\n",
    "                p.best = deepcopy(p.now)\n",
    "            if(p.now.loss < gbest.loss):\n",
    "                gbest = deepcopy(p.now)\n",
    "                better = 1\n",
    "#                 print(it, \" global \", gbest.loss)\n",
    "\n",
    "        if better :\n",
    "            notUpdCnt = 0\n",
    "        else : \n",
    "            notUpdCnt = notUpdCnt + 1\n",
    "\n",
    "\n",
    "    #     pCE[it] = players[1].now.loss\n",
    "\n",
    "\n",
    "        if notUpdCnt == stopcounter :\n",
    "            break\n",
    "    \n",
    "    t1_stop = process_time() \n",
    "\n",
    "    timeused = t1_stop-t1_start\n",
    "    \n",
    "#     print(gbest.loss)\n",
    "#     print(gbest.accuracy(X_train, y_train))\n",
    "#     print(timeused)\n",
    "\n",
    "    gloss[ite] = gbest.loss\n",
    "    acc[ite] = gbest.accuracy(X_train, y_train)\n",
    "    testacc[ite] = gbest.accuracy(X_test, y_test)\n",
    "    time[ite] = timeused\n",
    "    "
   ]
  },
  {
   "cell_type": "code",
   "execution_count": 27,
   "metadata": {},
   "outputs": [
    {
     "data": {
      "application/vnd.jupyter.widget-view+json": {
       "model_id": "00f5b3ea372946c3ac026b4a2f48b637",
       "version_major": 2,
       "version_minor": 0
      },
      "text/plain": [
       "HBox(children=(IntProgress(value=0, max=40), HTML(value='')))"
      ]
     },
     "metadata": {},
     "output_type": "display_data"
    },
    {
     "data": {
      "application/vnd.jupyter.widget-view+json": {
       "model_id": "761426960a064d4cb595b0c467232641",
       "version_major": 2,
       "version_minor": 0
      },
      "text/plain": [
       "HBox(children=(IntProgress(value=0, max=40), HTML(value='')))"
      ]
     },
     "metadata": {},
     "output_type": "display_data"
    },
    {
     "data": {
      "application/vnd.jupyter.widget-view+json": {
       "model_id": "a3f895f88cb74bcab92b264b95cf4a03",
       "version_major": 2,
       "version_minor": 0
      },
      "text/plain": [
       "HBox(children=(IntProgress(value=0, max=40), HTML(value='')))"
      ]
     },
     "metadata": {},
     "output_type": "display_data"
    },
    {
     "data": {
      "application/vnd.jupyter.widget-view+json": {
       "model_id": "7be8d31183c54910a278b3af203d2fba",
       "version_major": 2,
       "version_minor": 0
      },
      "text/plain": [
       "HBox(children=(IntProgress(value=0, max=40), HTML(value='')))"
      ]
     },
     "metadata": {},
     "output_type": "display_data"
    },
    {
     "data": {
      "application/vnd.jupyter.widget-view+json": {
       "model_id": "54c1f5a75657481b84d99cfc836575de",
       "version_major": 2,
       "version_minor": 0
      },
      "text/plain": [
       "HBox(children=(IntProgress(value=0, max=40), HTML(value='')))"
      ]
     },
     "metadata": {},
     "output_type": "display_data"
    }
   ],
   "source": [
    "gloss = {}\n",
    "acc = {}\n",
    "time = {}\n",
    "testacc = {}\n",
    "for ite in range(5):\n",
    "    run()"
   ]
  },
  {
   "cell_type": "code",
   "execution_count": 28,
   "metadata": {},
   "outputs": [
    {
     "name": "stdout",
     "output_type": "stream",
     "text": [
      "{0: 0.17953080356710882, 1: 0.2778537202472437, 2: 0.19066509687402353, 3: 0.22477617688716184, 4: 0.3451244549342615}\n",
      "{0: 0.9150943396226415, 1: 0.8867924528301887, 2: 0.9339622641509434, 3: 0.9245283018867925, 4: 0.839622641509434}\n",
      "{0: 36.828125, 1: 47.375, 2: 71.328125, 3: 41.25, 4: 72.1875}\n",
      "{0: 0.9305555555555556, 1: 0.8888888888888888, 2: 0.8888888888888888, 3: 0.9722222222222222, 4: 0.8333333333333334}\n"
     ]
    }
   ],
   "source": [
    "print(gloss)\n",
    "print(acc)\n",
    "print(time)\n",
    "print(testacc)"
   ]
  },
  {
   "cell_type": "markdown",
   "metadata": {},
   "source": [
    "# IRIS"
   ]
  },
  {
   "cell_type": "code",
   "execution_count": 57,
   "metadata": {},
   "outputs": [],
   "source": [
    "nFeatures = 4\n",
    "\n",
    "data = pd.read_csv(\"data/iris-norm.csv\", header=None)\n",
    "array = data.values\n",
    "X2 = array[:,0:nFeatures]\n",
    "y2 = array[:,nFeatures:]\n",
    "\n",
    "X2_train, X2_test, y2_train, y2_test = train_test_split(\n",
    "                X2, y2, test_size=0.4, random_state=42)"
   ]
  },
  {
   "cell_type": "code",
   "execution_count": 67,
   "metadata": {},
   "outputs": [
    {
     "name": "stdout",
     "output_type": "stream",
     "text": [
      "global  0.9711389429243918\n"
     ]
    },
    {
     "data": {
      "application/vnd.jupyter.widget-view+json": {
       "model_id": "92fde4727a4c43cea9d9ab0e8baa3855",
       "version_major": 2,
       "version_minor": 0
      },
      "text/plain": [
       "HBox(children=(IntProgress(value=0), HTML(value='')))"
      ]
     },
     "metadata": {},
     "output_type": "display_data"
    },
    {
     "name": "stdout",
     "output_type": "stream",
     "text": [
      "1  global  0.9197049471662323\n",
      "2  global  0.9197049471662322\n",
      "2  global  0.9175489959553654\n",
      "3  global  0.9158330667258746\n",
      "4  global  0.9158330667258746\n",
      "5  global  0.9158330667258746\n"
     ]
    }
   ],
   "source": [
    "players = []\n",
    "n_input = nFeatures\n",
    "n_output = 3\n",
    "hidden = [10]\n",
    "\n",
    "numPlayer = 100\n",
    "gbest = Position(n_input, n_output, hidden)\n",
    "\n",
    "for i in range (numPlayer):\n",
    "    p = Player(n_input, n_output, hidden)\n",
    "    p.now.calcFit(X2_train, y2_train)\n",
    "#     print(\"no : \", i, p.now.W)\n",
    "    p.best = deepcopy(p.now)\n",
    "    players.append(p)\n",
    "    if(gbest.loss > p.best.loss):\n",
    "        gbest = deepcopy(p.best)\n",
    "print(\"global \", gbest.loss)\n",
    "\n",
    "M = 0.3\n",
    "L = 0.05\n",
    "maxIterasi = 100\n",
    "error = {}\n",
    "weight = {}\n",
    "weightPnow = {}\n",
    "weightPbest = {}\n",
    "weightG = {}\n",
    "pCE = {}\n",
    "stopcounter = 5\n",
    "notUpdCnt = 0\n",
    "\n",
    "for it in tqdm_notebook(range(maxIterasi), total=maxIterasi, unit=\"epoch\"):\n",
    "#     print(\"--------\")\n",
    "    it = it + 1\n",
    "    for p in players:\n",
    "        if(rand.random() < M):\n",
    "            p.moveOff(it, maxIterasi)\n",
    "            if(rand.random() < L):\n",
    "                p.moveForward(gbest)\n",
    "        else:\n",
    "            p.moveForward(gbest)\n",
    "    p1 = players[1]\n",
    "#     print(p1.now.W[1])\n",
    "    better = 0\n",
    "    for p in players:\n",
    "        p.now.calcFit(X2_train, y2_train)\n",
    "        if( p.now.loss <= p.best.loss):\n",
    "#             print(\"pbest \", pl.best.loss)\n",
    "            p.best = deepcopy(p.now)\n",
    "        if(p.now.loss <= gbest.loss):\n",
    "            gbest = deepcopy(p.now)\n",
    "            better = 1\n",
    "            print(it, \" global \", gbest.loss)\n",
    "            \n",
    "    if better :\n",
    "        notUpdCnt = 0\n",
    "    else : \n",
    "        notUpdCnt = notUpdCnt + 1\n",
    "    pCE[it] = players[1].now.loss\n",
    "    weightPnow[it] = players[1].now.W[1][0][0]\n",
    "    weightPbest[it] = players[1].best.W[1][0][0]\n",
    "    weightG[it] = gbest.W[1][0][0]\n",
    "    error[it] = gbest.loss\n",
    "    if notUpdCnt == stopcounter : \n",
    "        break\n",
    "    \n",
    "# print(error)\n",
    "\n"
   ]
  },
  {
   "cell_type": "code",
   "execution_count": 68,
   "metadata": {},
   "outputs": [
    {
     "data": {
      "image/png": "[encoded data removed]",
      "text/plain": [
       "<Figure size 432x288 with 1 Axes>"
      ]
     },
     "metadata": {
      "needs_background": "light"
     },
     "output_type": "display_data"
    },
    {
     "data": {
      "image/png": "[encoded data removed]",
      "text/plain": [
       "<Figure size 432x288 with 1 Axes>"
      ]
     },
     "metadata": {
      "needs_background": "light"
     },
     "output_type": "display_data"
    }
   ],
   "source": [
    "plt.plot(error.values())\n",
    "plt.plot(pCE.values(), color = 'red')\n",
    "plt.xlabel('Epochs')\n",
    "plt.ylabel('Cross Entropy Loss')\n",
    "plt.show()\n",
    "\n",
    "\n",
    "plt.plot(weightPnow.values(), color = 'blue')\n",
    "plt.plot(weightPbest.values(), color = 'red')\n",
    "plt.plot(weightG.values(), color = 'green')\n",
    "plt.xlabel('Epochs')\n",
    "plt.ylabel('Weight')\n",
    "plt.show()\n",
    "\n",
    "# print(gbest.W)"
   ]
  },
  {
   "cell_type": "code",
   "execution_count": 66,
   "metadata": {},
   "outputs": [
    {
     "name": "stdout",
     "output_type": "stream",
     "text": [
      "[[0.42339223 0.3277907  0.24881707]\n",
      " [0.44531273 0.31742639 0.23726088]\n",
      " [0.22440211 0.34417517 0.43142272]\n",
      " [0.2280703  0.34934    0.4225897 ]\n",
      " [0.2668137  0.36631066 0.36687564]\n",
      " [0.2387543  0.34286356 0.41838214]\n",
      " [0.29505064 0.35243622 0.35251314]\n",
      " [0.31108254 0.35787233 0.33104514]\n",
      " [0.23896457 0.34853002 0.41250541]\n",
      " [0.41736655 0.33228427 0.25034918]\n",
      " [0.42586361 0.3245291  0.2496073 ]\n",
      " [0.28770267 0.34561688 0.36668044]\n",
      " [0.27974281 0.35226875 0.36798844]\n",
      " [0.29419116 0.35424064 0.3515682 ]\n",
      " [0.2377294  0.35434504 0.40792557]\n",
      " [0.22895795 0.33725193 0.43379012]\n",
      " [0.22864825 0.35602762 0.41532413]\n",
      " [0.25482687 0.35045657 0.39471656]\n",
      " [0.42699554 0.32675792 0.24624654]\n",
      " [0.24727202 0.34354592 0.40918206]\n",
      " [0.42787665 0.32504346 0.2470799 ]\n",
      " [0.26747844 0.34853404 0.38398752]\n",
      " [0.2333726  0.35030129 0.41632611]\n",
      " [0.42771437 0.31968958 0.25259605]\n",
      " [0.28613171 0.3526012  0.36126709]\n",
      " [0.30110969 0.35081036 0.34807995]\n",
      " [0.25653341 0.35004514 0.39342146]\n",
      " [0.40495718 0.33776817 0.25727464]\n",
      " [0.25172333 0.34088215 0.40739452]\n",
      " [0.27570466 0.35317238 0.37112296]\n",
      " [0.24150625 0.33759419 0.42089956]\n",
      " [0.24021    0.33762782 0.42216218]\n",
      " [0.22010743 0.35061364 0.42927893]\n",
      " [0.25237731 0.36418971 0.38343298]\n",
      " [0.40800053 0.33684419 0.25515528]\n",
      " [0.42511258 0.32686735 0.24802007]\n",
      " [0.25696701 0.35327534 0.38975765]\n",
      " [0.42183447 0.32953633 0.2486292 ]\n",
      " [0.42448673 0.32378978 0.2517235 ]\n",
      " [0.25521479 0.3461337  0.3986515 ]\n",
      " [0.27097702 0.35479227 0.3742307 ]\n",
      " [0.2715415  0.3587883  0.36967021]\n",
      " [0.2328474  0.34624621 0.42090639]\n",
      " [0.39687377 0.3341781  0.26894813]\n",
      " [0.41893803 0.33281613 0.24824584]\n",
      " [0.22778378 0.33679341 0.43542282]\n",
      " [0.28857812 0.35793002 0.35349186]\n",
      " [0.28936784 0.34873718 0.36189499]\n",
      " [0.26038999 0.36072122 0.37888879]\n",
      " [0.43563072 0.32133001 0.24303927]\n",
      " [0.22773036 0.34563777 0.42663188]\n",
      " [0.28543888 0.35248891 0.36207222]\n",
      " [0.31585117 0.35669569 0.32745314]\n",
      " [0.22830706 0.34771834 0.4239746 ]\n",
      " [0.422353   0.32869107 0.24895593]\n",
      " [0.24708284 0.34931354 0.40360362]\n",
      " [0.26544059 0.3543985  0.38016091]\n",
      " [0.26867267 0.35682084 0.37450649]\n",
      " [0.19435167 0.35329793 0.4523504 ]\n",
      " [0.45666856 0.3093449  0.23398654]] [[1. 0. 0.]\n",
      " [1. 0. 0.]\n",
      " [0. 0. 1.]\n",
      " [0. 0. 1.]\n",
      " [0. 1. 0.]\n",
      " [0. 0. 1.]\n",
      " [0. 1. 0.]\n",
      " [0. 1. 0.]\n",
      " [0. 0. 1.]\n",
      " [1. 0. 0.]\n",
      " [1. 0. 0.]\n",
      " [0. 1. 0.]\n",
      " [0. 1. 0.]\n",
      " [0. 1. 0.]\n",
      " [0. 0. 1.]\n",
      " [0. 0. 1.]\n",
      " [0. 0. 1.]\n",
      " [0. 0. 1.]\n",
      " [1. 0. 0.]\n",
      " [0. 0. 1.]\n",
      " [1. 0. 0.]\n",
      " [0. 0. 1.]\n",
      " [0. 0. 1.]\n",
      " [1. 0. 0.]\n",
      " [0. 1. 0.]\n",
      " [0. 1. 0.]\n",
      " [0. 0. 1.]\n",
      " [1. 0. 0.]\n",
      " [0. 0. 1.]\n",
      " [0. 1. 0.]\n",
      " [0. 0. 1.]\n",
      " [0. 0. 1.]\n",
      " [0. 0. 1.]\n",
      " [0. 0. 1.]\n",
      " [1. 0. 0.]\n",
      " [1. 0. 0.]\n",
      " [0. 0. 1.]\n",
      " [1. 0. 0.]\n",
      " [1. 0. 0.]\n",
      " [0. 0. 1.]\n",
      " [0. 0. 1.]\n",
      " [0. 1. 0.]\n",
      " [0. 0. 1.]\n",
      " [1. 0. 0.]\n",
      " [1. 0. 0.]\n",
      " [0. 0. 1.]\n",
      " [0. 1. 0.]\n",
      " [0. 1. 0.]\n",
      " [0. 1. 0.]\n",
      " [1. 0. 0.]\n",
      " [0. 0. 1.]\n",
      " [0. 1. 0.]\n",
      " [0. 1. 0.]\n",
      " [0. 0. 1.]\n",
      " [1. 0. 0.]\n",
      " [0. 0. 1.]\n",
      " [0. 1. 0.]\n",
      " [0. 0. 1.]\n",
      " [0. 0. 1.]\n",
      " [1. 0. 0.]]\n",
      "0.0\n"
     ]
    }
   ],
   "source": [
    "print(gbest.accuracy(X2_test, y2_test))"
   ]
  },
  {
   "cell_type": "code",
   "execution_count": 26,
   "metadata": {},
   "outputs": [
    {
     "name": "stdout",
     "output_type": "stream",
     "text": [
      "global  0.9649282421205416\n"
     ]
    },
    {
     "data": {
      "application/vnd.jupyter.widget-view+json": {
       "model_id": "dd30d81cf3274a5a865009345777d666",
       "version_major": 2,
       "version_minor": 0
      },
      "text/plain": [
       "HBox(children=(IntProgress(value=0), HTML(value='')))"
      ]
     },
     "metadata": {},
     "output_type": "display_data"
    },
    {
     "name": "stdout",
     "output_type": "stream",
     "text": [
      "1  global  0.950088508984765\n",
      "2  global  0.9043908690118647\n",
      "3  global  0.9043908690118647\n",
      "3  global  0.8901841327358664\n",
      "4  global  0.8845590832264084\n",
      "9  global  0.8845584915717091\n",
      "10  global  0.8845584915717091\n",
      "17  global  0.8844789319863127\n",
      "33  global  0.8837938379980872\n",
      "34  global  0.8837938379980872\n",
      "35  global  0.8837938379980872\n",
      "36  global  0.8837938379980872\n",
      "37  global  0.8837938379980872\n",
      "38  global  0.8837938379980872\n",
      "46  global  0.8831182982879325\n",
      "47  global  0.8831182982879325\n",
      "48  global  0.8831182982879325\n",
      "54  global  0.8831055978992355\n",
      "55  global  0.8830993405511774\n",
      "56  global  0.8830993405511774\n",
      "57  global  0.8830993405511774\n",
      "58  global  0.8830993405511774\n",
      "59  global  0.8830993405511774\n",
      "60  global  0.8830993405511774\n",
      "61  global  0.8830993405511774\n",
      "69  global  0.8830314923129907\n",
      "70  global  0.8830314923129907\n",
      "71  global  0.8830314923129907\n",
      "72  global  0.8830314923129907\n",
      "\n"
     ]
    }
   ],
   "source": [
    "players = []\n",
    "n_input = nFeatures\n",
    "n_output = 3\n",
    "hidden = [2]\n",
    "\n",
    "numPlayer =( n_input+n_output) * hidden[0]\n",
    "gbest = Position(n_input, n_output, hidden)\n",
    "\n",
    "for i in range (numPlayer):\n",
    "    p = Player(n_input, n_output, hidden)\n",
    "    p.now.calcFit(X2_train, y2_train)\n",
    "#     print(\"no : \", i, p.now.W)\n",
    "    p.best = deepcopy(p.now)\n",
    "    players.append(p)\n",
    "    if(gbest.loss > p.best.loss):\n",
    "        gbest = deepcopy(p.best)\n",
    "print(\"global \", gbest.loss)\n",
    "\n",
    "M = 0.3\n",
    "L = 0.05\n",
    "maxIterasi = 100\n",
    "error = {}\n",
    "weight = {}\n",
    "weightPnow = {}\n",
    "weightPbest = {}\n",
    "weightG = {}\n",
    "pCE = {}\n",
    "for it in tqdm_notebook(range(maxIterasi), total=maxIterasi, unit=\"epoch\"):\n",
    "#     print(\"--------\")\n",
    "    it = it + 1\n",
    "    for p in players:\n",
    "        if(rand.random() < M):\n",
    "            p.moveOff(it, maxIterasi)\n",
    "            if(rand.random() < L):\n",
    "                p.moveForward(gbest)\n",
    "        else:\n",
    "            p.moveForward(gbest)\n",
    "    p1 = players[1]\n",
    "#     print(p1.now.W[1])\n",
    "    for p in players:\n",
    "        partial = X2_train[np.random.choice(X2_train.shape[0], 20, replace = False), :]\n",
    "        p.now.calcFit(X2_train, y2_train)\n",
    "        if( p.now.loss <= p.best.loss):\n",
    "#             print(\"pbest \", pl.best.loss)\n",
    "            p.best = deepcopy(p.now)\n",
    "        if(p.now.loss <= gbest.loss):\n",
    "            gbest = deepcopy(p.now)\n",
    "            print(it, \" global \", gbest.loss)\n",
    "    pCE[it] = players[1].now.loss\n",
    "    weightPnow[it] = players[1].now.W[1][0][0]\n",
    "    weightPbest[it] = players[1].best.W[1][0][0]\n",
    "    weightG[it] = gbest.W[1][0][0]\n",
    "    error[it] = gbest.loss\n",
    "    \n",
    "# print(error)\n",
    "\n"
   ]
  },
  {
   "cell_type": "code",
   "execution_count": 27,
   "metadata": {},
   "outputs": [
    {
     "data": {
      "image/png": "[encoded data removed]",
      "text/plain": [
       "<Figure size 432x288 with 1 Axes>"
      ]
     },
     "metadata": {
      "needs_background": "light"
     },
     "output_type": "display_data"
    },
    {
     "data": {
      "image/png": "[encoded data removed]",
      "text/plain": [
       "<Figure size 432x288 with 1 Axes>"
      ]
     },
     "metadata": {
      "needs_background": "light"
     },
     "output_type": "display_data"
    },
    {
     "name": "stdout",
     "output_type": "stream",
     "text": [
      "{1: array([[-0.14051004, -0.46722799],\n",
      "       [-0.1094961 , -0.9897765 ],\n",
      "       [-0.45627401, -0.18935994],\n",
      "       [-1.256277  , -0.90259885]]), 2: array([[ 0.94192458, -0.24277376, -0.36556604],\n",
      "       [ 1.24732235, -0.75444449, -0.3145964 ]])}\n"
     ]
    }
   ],
   "source": [
    "plt.plot(error.values())\n",
    "plt.plot(pCE.values(), color = 'red')\n",
    "plt.xlabel('Epochs')\n",
    "plt.ylabel('MSE')\n",
    "plt.show()\n",
    "\n",
    "\n",
    "plt.plot(weightPnow.values(), color = 'blue')\n",
    "plt.plot(weightPbest.values(), color = 'red')\n",
    "plt.plot(weightG.values(), color = 'green')\n",
    "plt.xlabel('Epochs')\n",
    "plt.ylabel('Weight')\n",
    "plt.show()\n",
    "\n",
    "print(gbest.W)"
   ]
  },
  {
   "cell_type": "code",
   "execution_count": 28,
   "metadata": {},
   "outputs": [
    {
     "name": "stdout",
     "output_type": "stream",
     "text": [
      "[[0.68857196 0.15441504 0.157013  ]\n",
      " [0.70095687 0.14877525 0.15026788]\n",
      " [0.33333333 0.33333333 0.33333333]\n",
      " [0.33333333 0.33333333 0.33333333]\n",
      " [0.36088661 0.31593824 0.32317515]\n",
      " [0.33333333 0.33333333 0.33333333]\n",
      " [0.33612174 0.33214393 0.33173434]\n",
      " [0.47345704 0.2585611  0.26798186]\n",
      " [0.33333333 0.33333333 0.33333333]\n",
      " [0.73603358 0.12812651 0.13583991]\n",
      " [0.69347419 0.15072059 0.15580522]\n",
      " [0.33333333 0.33333333 0.33333333]\n",
      " [0.33333333 0.33333333 0.33333333]\n",
      " [0.34498212 0.32834773 0.32667015]\n",
      " [0.33333333 0.33333333 0.33333333]\n",
      " [0.33333333 0.33333333 0.33333333]\n",
      " [0.33333333 0.33333333 0.33333333]\n",
      " [0.33333333 0.33333333 0.33333333]\n",
      " [0.7644914  0.11249578 0.12301282]\n",
      " [0.33333333 0.33333333 0.33333333]\n",
      " [0.70307241 0.14609522 0.15083237]\n",
      " [0.33333333 0.33333333 0.33333333]\n",
      " [0.33333333 0.33333333 0.33333333]\n",
      " [0.53182588 0.24355613 0.22461799]\n",
      " [0.33333333 0.33333333 0.33333333]\n",
      " [0.34132346 0.32991832 0.32875822]\n",
      " [0.33333333 0.33333333 0.33333333]\n",
      " [0.75431243 0.11721108 0.12847649]\n",
      " [0.33333333 0.33333333 0.33333333]\n",
      " [0.33333333 0.33333333 0.33333333]\n",
      " [0.33333333 0.33333333 0.33333333]\n",
      " [0.33333333 0.33333333 0.33333333]\n",
      " [0.33333333 0.33333333 0.33333333]\n",
      " [0.35015122 0.3219241  0.32792468]\n",
      " [0.7650018  0.11175076 0.12324744]\n",
      " [0.69453675 0.15105822 0.15440503]\n",
      " [0.33333333 0.33333333 0.33333333]\n",
      " [0.74909942 0.12083048 0.13007009]\n",
      " [0.54579152 0.23691995 0.21728852]\n",
      " [0.33333333 0.33333333 0.33333333]\n",
      " [0.33333333 0.33333333 0.33333333]\n",
      " [0.33333333 0.33333333 0.33333333]\n",
      " [0.33333333 0.33333333 0.33333333]\n",
      " [0.60950398 0.19495546 0.19554055]\n",
      " [0.77174666 0.10899467 0.11925867]\n",
      " [0.33333333 0.33333333 0.33333333]\n",
      " [0.39065062 0.29992645 0.30942293]\n",
      " [0.33333333 0.33333333 0.33333333]\n",
      " [0.33333333 0.33333333 0.33333333]\n",
      " [0.66339748 0.16937693 0.16722559]\n",
      " [0.33333333 0.33333333 0.33333333]\n",
      " [0.33333333 0.33333333 0.33333333]\n",
      " [0.57572239 0.20009117 0.22418644]\n",
      " [0.33333333 0.33333333 0.33333333]\n",
      " [0.68585997 0.1561341  0.15800593]\n",
      " [0.33333333 0.33333333 0.33333333]\n",
      " [0.33333333 0.33333333 0.33333333]\n",
      " [0.33333333 0.33333333 0.33333333]\n",
      " [0.33333333 0.33333333 0.33333333]\n",
      " [0.56577246 0.22736371 0.20686382]] [[1. 0. 0.]\n",
      " [1. 0. 0.]\n",
      " [0. 0. 1.]\n",
      " [0. 0. 1.]\n",
      " [0. 1. 0.]\n",
      " [0. 0. 1.]\n",
      " [0. 1. 0.]\n",
      " [0. 1. 0.]\n",
      " [0. 0. 1.]\n",
      " [1. 0. 0.]\n",
      " [1. 0. 0.]\n",
      " [0. 1. 0.]\n",
      " [0. 1. 0.]\n",
      " [0. 1. 0.]\n",
      " [0. 0. 1.]\n",
      " [0. 0. 1.]\n",
      " [0. 0. 1.]\n",
      " [0. 0. 1.]\n",
      " [1. 0. 0.]\n",
      " [0. 0. 1.]\n",
      " [1. 0. 0.]\n",
      " [0. 0. 1.]\n",
      " [0. 0. 1.]\n",
      " [1. 0. 0.]\n",
      " [0. 1. 0.]\n",
      " [0. 1. 0.]\n",
      " [0. 0. 1.]\n",
      " [1. 0. 0.]\n",
      " [0. 0. 1.]\n",
      " [0. 1. 0.]\n",
      " [0. 0. 1.]\n",
      " [0. 0. 1.]\n",
      " [0. 0. 1.]\n",
      " [0. 0. 1.]\n",
      " [1. 0. 0.]\n",
      " [1. 0. 0.]\n",
      " [0. 0. 1.]\n",
      " [1. 0. 0.]\n",
      " [1. 0. 0.]\n",
      " [0. 0. 1.]\n",
      " [0. 0. 1.]\n",
      " [0. 1. 0.]\n",
      " [0. 0. 1.]\n",
      " [1. 0. 0.]\n",
      " [1. 0. 0.]\n",
      " [0. 0. 1.]\n",
      " [0. 1. 0.]\n",
      " [0. 1. 0.]\n",
      " [0. 1. 0.]\n",
      " [1. 0. 0.]\n",
      " [0. 0. 1.]\n",
      " [0. 1. 0.]\n",
      " [0. 1. 0.]\n",
      " [0. 0. 1.]\n",
      " [1. 0. 0.]\n",
      " [0. 0. 1.]\n",
      " [0. 1. 0.]\n",
      " [0. 0. 1.]\n",
      " [0. 0. 1.]\n",
      " [1. 0. 0.]]\n",
      "0.2833333333333333\n"
     ]
    }
   ],
   "source": [
    "print(gbest.accuracy(X2_test, y2_test))"
   ]
  },
  {
   "cell_type": "code",
   "execution_count": null,
   "metadata": {},
   "outputs": [],
   "source": []
  }
 ],
 "metadata": {
  "kernelspec": {
   "display_name": "Python 3",
   "language": "python",
   "name": "python3"
  },
  "language_info": {
   "codemirror_mode": {
    "name": "ipython",
    "version": 3
   },
   "file_extension": ".py",
   "mimetype": "text/x-python",
   "name": "python",
   "nbconvert_exporter": "python",
   "pygments_lexer": "ipython3",
   "version": "3.7.1"
  }
 },
 "nbformat": 4,
 "nbformat_minor": 2
}
